{
 "cells": [
  {
   "cell_type": "code",
   "execution_count": 1,
   "metadata": {},
   "outputs": [
    {
     "name": "stdout",
     "output_type": "stream",
     "text": [
      "   A1_Score  A2_Score  A3_Score  A4_Score  A5_Score  A6_Score  A7_Score  \\\n",
      "0         1         1         1         1         0         0         1   \n",
      "1         1         1         0         1         0         0         0   \n",
      "2         1         1         0         1         1         0         1   \n",
      "3         1         1         0         1         0         0         1   \n",
      "4         1         0         0         0         0         0         0   \n",
      "\n",
      "   A8_Score  A9_Score  A10_Score  ... gender       ethnicity jundice austim  \\\n",
      "0         1         0          0  ...      f  White-European      no     no   \n",
      "1         1         0          1  ...      m          Latino      no    yes   \n",
      "2         1         1          1  ...      m          Latino     yes    yes   \n",
      "3         1         0          1  ...      f  White-European      no    yes   \n",
      "4         1         0          0  ...      f               ?      no     no   \n",
      "\n",
      "     contry_of_res used_app_before result       age_desc relation Class/ASD  \n",
      "0  'United States'              no      6  '18 and more'     Self        NO  \n",
      "1           Brazil              no      5  '18 and more'     Self        NO  \n",
      "2            Spain              no      8  '18 and more'   Parent       YES  \n",
      "3  'United States'              no      6  '18 and more'     Self        NO  \n",
      "4            Egypt              no      2  '18 and more'        ?        NO  \n",
      "\n",
      "[5 rows x 21 columns]\n"
     ]
    }
   ],
   "source": [
    "import numpy as np\n",
    "import pandas as pd\n",
    "import matplotlib.pyplot as plt\n",
    "\n",
    "df = pd.read_csv('./kaggle/input/Autism Screening.csv')\n",
    "print(df.head())\n"
   ]
  },
  {
   "cell_type": "markdown",
   "metadata": {},
   "source": [
    "*DROPPING FIELD WITH ONLY ONE UNIQUE VALUE*"
   ]
  },
  {
   "cell_type": "code",
   "execution_count": 2,
   "metadata": {},
   "outputs": [],
   "source": [
    "df = df.drop(columns=['age_desc', 'result', 'contry_of_res', 'used_app_before'])\n",
    "df = df.replace('?', np.nan)\n",
    "df = df.dropna()"
   ]
  },
  {
   "cell_type": "code",
   "execution_count": 3,
   "metadata": {},
   "outputs": [
    {
     "name": "stdout",
     "output_type": "stream",
     "text": [
      "<class 'pandas.core.frame.DataFrame'>\n",
      "Index: 609 entries, 0 to 703\n",
      "Data columns (total 17 columns):\n",
      " #   Column     Non-Null Count  Dtype \n",
      "---  ------     --------------  ----- \n",
      " 0   A1_Score   609 non-null    int64 \n",
      " 1   A2_Score   609 non-null    int64 \n",
      " 2   A3_Score   609 non-null    int64 \n",
      " 3   A4_Score   609 non-null    int64 \n",
      " 4   A5_Score   609 non-null    int64 \n",
      " 5   A6_Score   609 non-null    int64 \n",
      " 6   A7_Score   609 non-null    int64 \n",
      " 7   A8_Score   609 non-null    int64 \n",
      " 8   A9_Score   609 non-null    int64 \n",
      " 9   A10_Score  609 non-null    int64 \n",
      " 10  age        609 non-null    object\n",
      " 11  gender     609 non-null    object\n",
      " 12  ethnicity  609 non-null    object\n",
      " 13  jundice    609 non-null    object\n",
      " 14  austim     609 non-null    object\n",
      " 15  relation   609 non-null    object\n",
      " 16  Class/ASD  609 non-null    object\n",
      "dtypes: int64(10), object(7)\n",
      "memory usage: 85.6+ KB\n",
      "None\n"
     ]
    }
   ],
   "source": [
    "print(df.info())"
   ]
  },
  {
   "cell_type": "code",
   "execution_count": 4,
   "metadata": {},
   "outputs": [
    {
     "name": "stdout",
     "output_type": "stream",
     "text": [
      "   A1_Score  A2_Score  A3_Score  A4_Score  A5_Score  A6_Score  A7_Score  \\\n",
      "0         1         1         1         1         0         0         1   \n",
      "1         1         1         0         1         0         0         0   \n",
      "2         1         1         0         1         1         0         1   \n",
      "3         1         1         0         1         0         0         1   \n",
      "5         1         1         1         1         1         0         1   \n",
      "\n",
      "   A8_Score  A9_Score  A10_Score age  gender  ethnicity  jundice  austim  \\\n",
      "0         1         0          0  26       0          9        0       0   \n",
      "1         1         0          1  24       1          5        0       1   \n",
      "2         1         1          1  27       1          5        1       1   \n",
      "3         1         0          1  35       0          9        0       1   \n",
      "5         1         1          1  36       1          6        1       0   \n",
      "\n",
      "   relation  Class/ASD  \n",
      "0         4          0  \n",
      "1         4          0  \n",
      "2         2          1  \n",
      "3         4          0  \n",
      "5         4          1  \n"
     ]
    }
   ],
   "source": [
    "from sklearn import preprocessing\n",
    "\n",
    "le = preprocessing.LabelEncoder()\n",
    "\n",
    "for column in ['gender', 'ethnicity', 'jundice', 'austim', 'relation', 'Class/ASD']:\n",
    "    df[column] = le.fit_transform(df[column])\n",
    "\n",
    "print (df.head())"
   ]
  },
  {
   "cell_type": "code",
   "execution_count": 5,
   "metadata": {},
   "outputs": [],
   "source": [
    "X = df.drop(columns={'Class/ASD'})\n",
    "y = df['Class/ASD']"
   ]
  },
  {
   "cell_type": "code",
   "execution_count": 6,
   "metadata": {},
   "outputs": [],
   "source": [
    "from sklearn.model_selection import train_test_split\n",
    "X_train, X_test,y_train,y_test = train_test_split(X,y,test_size=0.2,random_state=12)"
   ]
  },
  {
   "cell_type": "code",
   "execution_count": 7,
   "metadata": {},
   "outputs": [
    {
     "ename": "NameError",
     "evalue": "name 'model' is not defined",
     "output_type": "error",
     "traceback": [
      "\u001b[0;31m---------------------------------------------------------------------------\u001b[0m",
      "\u001b[0;31mNameError\u001b[0m                                 Traceback (most recent call last)",
      "Cell \u001b[0;32mIn[7], line 9\u001b[0m\n\u001b[1;32m      5\u001b[0m \u001b[38;5;28;01mimport\u001b[39;00m \u001b[38;5;21;01mseaborn\u001b[39;00m \u001b[38;5;28;01mas\u001b[39;00m \u001b[38;5;21;01msns\u001b[39;00m\n\u001b[1;32m      8\u001b[0m \u001b[38;5;66;03m# Train the logistic regression model\u001b[39;00m\n\u001b[0;32m----> 9\u001b[0m \u001b[43mmodel\u001b[49m\u001b[38;5;241m.\u001b[39mfit(X_train, y_train)\n\u001b[1;32m     11\u001b[0m \u001b[38;5;66;03m# Cross-validation\u001b[39;00m\n\u001b[1;32m     12\u001b[0m cv_scores \u001b[38;5;241m=\u001b[39m cross_val_score(model, X, y, cv\u001b[38;5;241m=\u001b[39m\u001b[38;5;241m5\u001b[39m)\n",
      "\u001b[0;31mNameError\u001b[0m: name 'model' is not defined"
     ]
    }
   ],
   "source": [
    "from sklearn.linear_model import LogisticRegression\n",
    "from sklearn.metrics import accuracy_score, classification_report, confusion_matrix, roc_curve, roc_auc_score\n",
    "from sklearn.model_selection import cross_val_score\n",
    "import matplotlib.pyplot as plt\n",
    "import seaborn as sns\n",
    "\n",
    "\n",
    "# Train the logistic regression model\n",
    "model.fit(X_train, y_train)\n",
    "\n",
    "# Cross-validation\n",
    "cv_scores = cross_val_score(model, X, y, cv=5)\n",
    "print(f'Cross-validation scores: {cv_scores}')\n",
    "print(f'Average cross-validation score: {cv_scores.mean()}')\n",
    "\n",
    "# Make predictions\n",
    "y_pred = model.predict(X_test)\n",
    "\n",
    "# Evaluate the model\n",
    "accuracy = accuracy_score(y_test, y_pred)\n",
    "print(f'Accuracy: {accuracy}')\n",
    "print(classification_report(y_test, y_pred))\n"
   ]
  }
 ],
 "metadata": {
  "kernelspec": {
   "display_name": "env",
   "language": "python",
   "name": "python3"
  },
  "language_info": {
   "codemirror_mode": {
    "name": "ipython",
    "version": 3
   },
   "file_extension": ".py",
   "mimetype": "text/x-python",
   "name": "python",
   "nbconvert_exporter": "python",
   "pygments_lexer": "ipython3",
   "version": "3.10.12"
  }
 },
 "nbformat": 4,
 "nbformat_minor": 2
}
